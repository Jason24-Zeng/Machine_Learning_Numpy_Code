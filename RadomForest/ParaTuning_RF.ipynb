{
 "cells": [
  {
   "cell_type": "code",
   "execution_count": 10,
   "metadata": {
    "pycharm": {
     "name": "#%%\n"
    }
   },
   "outputs": [],
   "source": [
    "import pandas as pd\n",
    "import numpy as np\n",
    "from sklearn.ensemble import RandomForestClassifier\n",
    "from sklearn.model_selection import GridSearchCV,cross_validate\n",
    "from sklearn import  metrics\n",
    "import matplotlib.pylab as plt\n",
    "%matplotlib inline\n",
    "\n"
   ]
  },
  {
   "cell_type": "code",
   "execution_count": 7,
   "metadata": {
    "pycharm": {
     "name": "#%%\n"
    }
   },
   "outputs": [
    {
     "name": "stderr",
     "output_type": "stream",
     "text": [
      "/Users/zijianzeng/opt/anaconda3/envs/tensorflow/lib/python3.7/site-packages/ipykernel_launcher.py:5: SettingWithCopyWarning: \n",
      "A value is trying to be set on a copy of a slice from a DataFrame\n",
      "\n",
      "See the caveats in the documentation: https://pandas.pydata.org/pandas-docs/stable/user_guide/indexing.html#returning-a-view-versus-a-copy\n",
      "  \"\"\"\n",
      "/Users/zijianzeng/opt/anaconda3/envs/tensorflow/lib/python3.7/site-packages/ipykernel_launcher.py:6: SettingWithCopyWarning: \n",
      "A value is trying to be set on a copy of a slice from a DataFrame\n",
      "\n",
      "See the caveats in the documentation: https://pandas.pydata.org/pandas-docs/stable/user_guide/indexing.html#returning-a-view-versus-a-copy\n",
      "  \n"
     ]
    }
   ],
   "source": [
    "filename = \"~/PycharmProjects/RadomForest/sonar-all-data.csv\"\n",
    "dataset = pd.read_csv(filename, header=None)\n",
    "# change label 'R' and 'M' to 0 and 1\n",
    "label = dataset.iloc[:, -1]\n",
    "label[label == 'M'] = 1\n",
    "label[label == 'R'] = 0\n",
    "X = np.array(dataset.iloc[:, :-1])\n",
    "y = np.array(dataset.iloc[:, -1])\n",
    "y= y.astype('int')"
   ]
  },
  {
   "cell_type": "code",
   "execution_count": 8,
   "metadata": {},
   "outputs": [
    {
     "data": {
      "text/plain": [
       "1    111\n",
       "0     97\n",
       "Name: 60, dtype: int64"
      ]
     },
     "execution_count": 8,
     "metadata": {},
     "output_type": "execute_result"
    }
   ],
   "source": [
    "dataset.iloc[:, -1].value_counts()"
   ]
  },
  {
   "cell_type": "code",
   "execution_count": null,
   "metadata": {},
   "outputs": [],
   "source": []
  },
  {
   "cell_type": "code",
   "execution_count": 20,
   "metadata": {
    "pycharm": {
     "name": "#%%\n"
    }
   },
   "outputs": [
    {
     "data": {
      "text/plain": [
       "RandomForestClassifier(oob_score=True, random_state=2)"
      ]
     },
     "execution_count": 20,
     "metadata": {},
     "output_type": "execute_result"
    }
   ],
   "source": [
    "#print(y)\n",
    "clf = RandomForestClassifier(oob_score=True, random_state=2, bootstrap=True)\n",
    "clf.fit(X,y)\n"
   ]
  },
  {
   "cell_type": "code",
   "execution_count": 21,
   "metadata": {
    "pycharm": {
     "name": "#%%\n"
    }
   },
   "outputs": [
    {
     "name": "stdout",
     "output_type": "stream",
     "text": [
      "0.8557692307692307\n"
     ]
    }
   ],
   "source": [
    "print(clf.oob_score_)"
   ]
  },
  {
   "cell_type": "code",
   "execution_count": 24,
   "metadata": {},
   "outputs": [
    {
     "name": "stdout",
     "output_type": "stream",
     "text": [
      "[0.22 0.25 0.25 0.12 0.13 0.19 0.2  0.27 0.15 0.07 0.02 0.14 0.19 0.15\n",
      " 0.13 0.14 0.18 0.17 0.06 0.29 0.18 0.19 0.18 0.06 0.04 0.06 0.18 0.12\n",
      " 0.26 0.19 0.13 0.11 0.14 0.23 0.17 0.3  0.04 0.02 0.04 0.05 0.13 0.\n",
      " 0.04 0.15 0.22 0.25 0.16 0.19 0.09 0.18 0.06 0.01 0.04 0.04 0.03 0.22\n",
      " 0.17 0.01 0.01 0.03 0.04 0.04 0.08 0.02 0.   0.06 0.02 0.06 0.06 0.04\n",
      " 0.02 0.04 0.03 0.08 0.04 0.12 0.12 0.14 0.08 0.09 0.24 0.26 0.16 0.16\n",
      " 0.18 0.15 0.1  0.22 0.19 0.1  0.13 0.21 0.11 0.14 0.1  0.05 0.11 0.84\n",
      " 0.87 0.89 0.8  0.91 0.91 0.82 0.8  0.86 0.8  0.85 0.77 0.86 0.81 0.93\n",
      " 0.9  0.92 0.91 0.88 0.96 0.95 0.9  0.94 0.82 0.93 0.88 0.95 0.92 0.84\n",
      " 0.85 0.89 0.9  0.89 0.85 0.89 0.94 0.93 0.84 0.92 0.83 0.91 0.83 0.81\n",
      " 0.91 0.92 0.92 0.81 0.85 0.92 0.99 0.9  0.95 0.9  0.84 0.85 0.84 0.88\n",
      " 0.8  0.73 0.98 0.95 0.94 0.93 0.96 0.98 0.88 0.92 0.85 0.9  0.81 0.81\n",
      " 0.87 0.86 0.84 0.82 0.91 0.87 0.97 0.87 0.83 0.88 0.77 0.93 0.99 0.99\n",
      " 0.98 0.98 0.96 0.99 0.96 0.94 0.94 0.95 0.9  0.92 0.94 0.94 0.92 1.\n",
      " 0.96 0.97 0.99 0.93 0.96 0.96 0.96 0.98 0.88 0.92 0.88 0.87]\n"
     ]
    },
    {
     "data": {
      "text/plain": [
       "1.0"
      ]
     },
     "execution_count": 24,
     "metadata": {},
     "output_type": "execute_result"
    }
   ],
   "source": [
    "y_predprob = clf.predict_proba(X)[:, 1]\n",
    "print(y_predprob)\n",
    "metrics.roc_auc_score(y, y_predprob)"
   ]
  },
  {
   "cell_type": "code",
   "execution_count": 9,
   "metadata": {
    "pycharm": {
     "name": "#%%\n"
    }
   },
   "outputs": [
    {
     "name": "stdout",
     "output_type": "stream",
     "text": [
      "[0 0 0 0 0 0 0 0 0 0 0 0 0 0 0 0 0 0 0 0 0 0 0 0 0 0 0 0 0 0 0 0 0 0 0 0 0\n",
      " 0 0 0 0 0 0 0 0 0 0 0 0 0 0 0 0 0 0 0 0 0 0 0 0 0 0 0 0 0 0 0 0 0 0 0 0 0\n",
      " 0 0 0 0 0 0 0 0 0 0 0 0 0 0 0 0 0 0 0 0 0 0 0 0 0 0 0 0 0 0 0 0 0 0 0 0 0\n",
      " 0 0 0 0 0 0 0 0 0 0 0 0 0 0 0 0 0 0 1 0 0 0 0 0 0 0 0 0 0 0 0 0 0 0 0 0 0\n",
      " 0 0 0 0 0 0 0 0 0 0 0 0 0 0 0 0 0 0 0 0 0 0 0 0 0 0 0 0 0 0 0 0 0 0 0 0 0\n",
      " 0 0 0 0 0 0 0 0 0 0 0 0 0 0 0] [0 0 0 0 0 0 0 0 0 0 0 0 0 0 0 0 0 0 0 0 0 0 0 0 0 0 0 0 0 0 0 0 0 0 0 0 0\n",
      " 0 0 0 0 0 0 0 0 0 0 0 0 0 0 0 0 0 0 0 0 0 0 0 0 0 0 0 0 0 0 0 0 0 0 0 0 0\n",
      " 0 0 0 0 0 0 0 0 0 0 0 0 0 0 0 0 0 0 0 0 0 0 0 1 1 1 1 1 1 1 1 1 1 1 1 1 1\n",
      " 1 1 1 1 1 1 1 1 1 1 1 1 1 1 1 1 1 1 1 1 1 1 1 1 1 1 1 1 1 1 1 1 1 1 1 1 1\n",
      " 1 1 1 1 1 1 1 1 1 1 1 1 1 1 1 1 1 1 1 1 1 1 1 1 1 1 1 1 1 1 1 1 1 1 1 1 1\n",
      " 1 1 1 1 1 1 1 1 1 1 1 1 1 1 1 1 1 1 1 1 1 1 1]\n"
     ]
    }
   ],
   "source": [
    "from sklearn.datasets import make_classification\n",
    "X_train, y_train = make_classification(n_samples=1000, n_features=4,\n",
    "                            n_informative=2, n_redundant=0,\n",
    "                            random_state=0, shuffle=False)\n",
    "print(y_train[:200])\n"
   ]
  },
  {
   "cell_type": "code",
   "execution_count": 25,
   "metadata": {},
   "outputs": [],
   "source": [
    "param_test1 = {'n_estimators': range(10,71,10)}\n",
    "gsearch1 = GridSearchCV(estimator = RandomForestClassifier(min_samples_split=10,\n",
    "                                 min_samples_leaf=20,max_depth=10,max_features='sqrt' ,random_state=10),\n",
    "                               param_grid =param_test1, scoring='roc_auc',cv=5)"
   ]
  },
  {
   "cell_type": "code",
   "execution_count": 26,
   "metadata": {},
   "outputs": [
    {
     "data": {
      "text/plain": [
       "GridSearchCV(cv=5,\n",
       "             estimator=RandomForestClassifier(max_depth=10, max_features='sqrt',\n",
       "                                              min_samples_leaf=20,\n",
       "                                              min_samples_split=10,\n",
       "                                              random_state=10),\n",
       "             param_grid={'n_estimators': range(10, 71, 10)}, scoring='roc_auc')"
      ]
     },
     "execution_count": 26,
     "metadata": {},
     "output_type": "execute_result"
    }
   ],
   "source": [
    "gsearch1.fit(X,y)"
   ]
  },
  {
   "cell_type": "code",
   "execution_count": 32,
   "metadata": {},
   "outputs": [
    {
     "data": {
      "text/plain": [
       "0.7566465571042229"
      ]
     },
     "execution_count": 32,
     "metadata": {},
     "output_type": "execute_result"
    }
   ],
   "source": [
    "gsearch1.best_params_\n",
    "gsearch1.best_score_"
   ]
  },
  {
   "cell_type": "code",
   "execution_count": 30,
   "metadata": {},
   "outputs": [
    {
     "data": {
      "text/plain": [
       "{'mean_fit_time': array([0.01445975, 0.02450047, 0.0356092 , 0.0474596 , 0.05771189,\n",
       "        0.08032799, 0.08425269]),\n",
       " 'std_fit_time': array([0.00237963, 0.00036484, 0.00048106, 0.00149739, 0.00051802,\n",
       "        0.01178063, 0.00166445]),\n",
       " 'mean_score_time': array([0.00237918, 0.00270572, 0.00342932, 0.00429659, 0.00483513,\n",
       "        0.00621219, 0.00670199]),\n",
       " 'std_score_time': array([0.00021915, 0.00013039, 0.00031365, 0.00035616, 0.000189  ,\n",
       "        0.00099896, 0.00041118]),\n",
       " 'param_n_estimators': masked_array(data=[10, 20, 30, 40, 50, 60, 70],\n",
       "              mask=[False, False, False, False, False, False, False],\n",
       "        fill_value='?',\n",
       "             dtype=object),\n",
       " 'params': [{'n_estimators': 10},\n",
       "  {'n_estimators': 20},\n",
       "  {'n_estimators': 30},\n",
       "  {'n_estimators': 40},\n",
       "  {'n_estimators': 50},\n",
       "  {'n_estimators': 60},\n",
       "  {'n_estimators': 70}],\n",
       " 'split0_test_score': array([0.65454545, 0.55      , 0.56590909, 0.56363636, 0.53636364,\n",
       "        0.52954545, 0.53181818]),\n",
       " 'split1_test_score': array([0.88863636, 0.88409091, 0.89772727, 0.92727273, 0.92727273,\n",
       "        0.925     , 0.93181818]),\n",
       " 'split2_test_score': array([0.70709382, 0.72997712, 0.69107551, 0.70480549, 0.77803204,\n",
       "        0.76887872, 0.77574371]),\n",
       " 'split3_test_score': array([0.90430622, 0.8923445 , 0.94976077, 0.95933014, 0.95454545,\n",
       "        0.96172249, 0.96172249]),\n",
       " 'split4_test_score': array([0.40191388, 0.48325359, 0.53588517, 0.55502392, 0.5645933 ,\n",
       "        0.59808612, 0.56698565]),\n",
       " 'mean_test_score': array([0.71129915, 0.70793322, 0.72807156, 0.74201373, 0.75216143,\n",
       "        0.75664656, 0.75361764]),\n",
       " 'std_test_score': array([0.18311643, 0.16789808, 0.16883729, 0.17304071, 0.17552381,\n",
       "        0.17161874, 0.17865001]),\n",
       " 'rank_test_score': array([6, 7, 5, 4, 3, 1, 2], dtype=int32)}"
      ]
     },
     "execution_count": 30,
     "metadata": {},
     "output_type": "execute_result"
    }
   ],
   "source": [
    "gsearch1.cv_results_"
   ]
  },
  {
   "cell_type": "code",
   "execution_count": 52,
   "metadata": {},
   "outputs": [],
   "source": [
    "params_test2 = {'max_depth':range(3,14,2), 'min_samples_split':range(5,40,5)}\n",
    "gsearch2 = GridSearchCV(estimator = RandomForestClassifier(n_estimators= 60,\n",
    "                            min_samples_leaf=20,max_features='sqrt' ,oob_score=True,random_state=10),\n",
    "                           param_grid = params_test2,scoring='roc_auc',iid=False, cv=5)"
   ]
  },
  {
   "cell_type": "code",
   "execution_count": 53,
   "metadata": {},
   "outputs": [
    {
     "name": "stderr",
     "output_type": "stream",
     "text": [
      "/Users/zijianzeng/opt/anaconda3/envs/tensorflow/lib/python3.7/site-packages/sklearn/model_selection/_search.py:849: FutureWarning: The parameter 'iid' is deprecated in 0.22 and will be removed in 0.24.\n",
      "  \"removed in 0.24.\", FutureWarning\n"
     ]
    },
    {
     "data": {
      "text/plain": [
       "GridSearchCV(cv=5,\n",
       "             estimator=RandomForestClassifier(max_features='sqrt',\n",
       "                                              min_samples_leaf=20,\n",
       "                                              n_estimators=60, oob_score=True,\n",
       "                                              random_state=10),\n",
       "             iid=False,\n",
       "             param_grid={'max_depth': range(3, 14, 2),\n",
       "                         'min_samples_split': range(5, 40, 5)},\n",
       "             scoring='roc_auc')"
      ]
     },
     "execution_count": 53,
     "metadata": {},
     "output_type": "execute_result"
    }
   ],
   "source": [
    "gsearch2.fit(X,y)"
   ]
  },
  {
   "cell_type": "code",
   "execution_count": 54,
   "metadata": {},
   "outputs": [
    {
     "name": "stdout",
     "output_type": "stream",
     "text": [
      "mean_test_score  :  [0.75664656 0.75664656 0.75664656 0.75664656 0.75664656 0.75664656\n",
      " 0.75664656 0.75664656 0.75664656 0.75664656 0.75664656 0.75664656\n",
      " 0.75664656 0.75664656 0.75664656 0.75664656 0.75664656 0.75664656\n",
      " 0.75664656 0.75664656 0.75664656 0.75664656 0.75664656 0.75664656\n",
      " 0.75664656 0.75664656 0.75664656 0.75664656 0.75664656 0.75664656\n",
      " 0.75664656 0.75664656 0.75664656 0.75664656 0.75664656 0.75664656\n",
      " 0.75664656 0.75664656 0.75664656 0.75664656 0.75664656 0.75664656]\n",
      "std_test_score  :  [0.17161874 0.17161874 0.17161874 0.17161874 0.17161874 0.17161874\n",
      " 0.17161874 0.17161874 0.17161874 0.17161874 0.17161874 0.17161874\n",
      " 0.17161874 0.17161874 0.17161874 0.17161874 0.17161874 0.17161874\n",
      " 0.17161874 0.17161874 0.17161874 0.17161874 0.17161874 0.17161874\n",
      " 0.17161874 0.17161874 0.17161874 0.17161874 0.17161874 0.17161874\n",
      " 0.17161874 0.17161874 0.17161874 0.17161874 0.17161874 0.17161874\n",
      " 0.17161874 0.17161874 0.17161874 0.17161874 0.17161874 0.17161874]\n"
     ]
    }
   ],
   "source": [
    " for i in ['mean_test_score', 'std_test_score']:\n",
    "        print(i,\" : \",gsearch2.cv_results_[i])"
   ]
  },
  {
   "cell_type": "code",
   "execution_count": 55,
   "metadata": {},
   "outputs": [
    {
     "data": {
      "text/plain": [
       "({'max_depth': 3, 'min_samples_split': 5}, 0.7566465571042229)"
      ]
     },
     "execution_count": 55,
     "metadata": {},
     "output_type": "execute_result"
    }
   ],
   "source": [
    "gsearch2.best_params_, gsearch2.best_score_"
   ]
  },
  {
   "cell_type": "code",
   "execution_count": 58,
   "metadata": {},
   "outputs": [
    {
     "data": {
      "text/plain": [
       "0.7644230769230769"
      ]
     },
     "execution_count": 58,
     "metadata": {},
     "output_type": "execute_result"
    }
   ],
   "source": [
    "RF2 = RandomForestClassifier(n_estimators= 60, max_depth=3, min_samples_split=5,\n",
    "                                 min_samples_leaf=20,max_features='sqrt' ,oob_score=True,random_state=10)\n",
    "RF2.fit(X,y)\n",
    "RF2.oob_score_"
   ]
  }
 ],
 "metadata": {
  "kernelspec": {
   "display_name": "Python [conda env:tensorflow]",
   "language": "python",
   "name": "conda-env-tensorflow-py"
  },
  "language_info": {
   "codemirror_mode": {
    "name": "ipython",
    "version": 3
   },
   "file_extension": ".py",
   "mimetype": "text/x-python",
   "name": "python",
   "nbconvert_exporter": "python",
   "pygments_lexer": "ipython3",
   "version": "3.7.8"
  }
 },
 "nbformat": 4,
 "nbformat_minor": 4
}
