{
 "cells": [
  {
   "cell_type": "code",
   "execution_count": 1,
   "metadata": {},
   "outputs": [],
   "source": [
    "import numpy as np\n",
    "def drop_duplicates(x):\n",
    "    is_unique = np.zeros_like(x, dtype=bool)\n",
    "    is_unique[np.unique(x, return_index=True)[1]] = True\n",
    "    return x[is_unique]"
   ]
  },
  {
   "cell_type": "code",
   "execution_count": 2,
   "metadata": {},
   "outputs": [
    {
     "name": "stdout",
     "output_type": "stream",
     "text": [
      "[0 4 5 2 3]\n",
      "(array([0, 2, 3, 4, 5]), array([0, 4, 5, 2, 3]))\n"
     ]
    }
   ],
   "source": [
    "test1 = np.array([0,0,4,5,2,3,2,4,2])\n",
    "a = drop_duplicates(test1)\n",
    "print(a)\n",
    "b = np.unique(test1, return_index=True)\n",
    "print(b)"
   ]
  },
  {
   "cell_type": "code",
   "execution_count": 3,
   "metadata": {},
   "outputs": [
    {
     "name": "stdout",
     "output_type": "stream",
     "text": [
      "[0 3 4 1 2]\n",
      "[0 3 4 1 2]\n",
      "[0 3 4 1 2]\n"
     ]
    }
   ],
   "source": [
    "c = np.argsort(a)\n",
    "print(c)\n",
    "d = np.argsort(c)\n",
    "print(d)\n",
    "print(np.argsort(np.argsort(a)))"
   ]
  },
  {
   "cell_type": "code",
   "execution_count": 4,
   "metadata": {},
   "outputs": [
    {
     "name": "stdout",
     "output_type": "stream",
     "text": [
      "0.9999 1.9998 [-9.99900000e-01  5.00250015e-01  9.99900000e-01 -4.99849995e-01\n",
      "  2.00010001e-04]\n",
      "[-9.99900000e-01  5.00250015e-01  1.00030002e+00 -4.99849995e-01\n",
      "  2.00010001e-04]\n"
     ]
    }
   ],
   "source": [
    "epsilon = 1e-4\n",
    "bound = 1.0 - epsilon\n",
    "factor = np.max(d) / 2.0 * bound\n",
    "scaled_rank = np.clip(d/factor-bound, -bound, bound)\n",
    "print(bound, factor, scaled_rank)\n",
    "print(d/factor-bound)\n"
   ]
  },
  {
   "cell_type": "code",
   "execution_count": 5,
   "metadata": {},
   "outputs": [],
   "source": [
    "from scipy.interpolate import interp1d\n",
    "e = interp1d(\n",
    "            a, scaled_rank, kind='linear', copy=False, fill_value='extrapolate')"
   ]
  },
  {
   "cell_type": "code",
   "execution_count": 6,
   "metadata": {},
   "outputs": [
    {
     "data": {
      "text/plain": [
       "array([-9.99900000e-01,  5.00250015e-01,  9.99900000e-01, -4.99849995e-01,\n",
       "        2.00010001e-04])"
      ]
     },
     "execution_count": 6,
     "metadata": {},
     "output_type": "execute_result"
    }
   ],
   "source": [
    "e(a)"
   ]
  },
  {
   "cell_type": "code",
   "execution_count": 7,
   "metadata": {},
   "outputs": [],
   "source": [
    "from gauss_rank_scaler import GaussRankScaler"
   ]
  },
  {
   "cell_type": "code",
   "execution_count": 8,
   "metadata": {},
   "outputs": [
    {
     "name": "stdout",
     "output_type": "stream",
     "text": [
      "['/Users/zijianzeng/PycharmProjects/Gauss_Rank_Scaler', '/Users/zijianzeng/opt/anaconda3/envs/tensorflow/lib/python37.zip', '/Users/zijianzeng/opt/anaconda3/envs/tensorflow/lib/python3.7', '/Users/zijianzeng/opt/anaconda3/envs/tensorflow/lib/python3.7/lib-dynload', '', '/Users/zijianzeng/opt/anaconda3/envs/tensorflow/lib/python3.7/site-packages', '/Users/zijianzeng/opt/anaconda3/envs/tensorflow/lib/python3.7/site-packages/IPython/extensions', '/Users/zijianzeng/.ipython']\n"
     ]
    }
   ],
   "source": [
    "import sys\n",
    "print(sys.path)"
   ]
  },
  {
   "cell_type": "code",
   "execution_count": 9,
   "metadata": {},
   "outputs": [],
   "source": [
    "import pandas as pd"
   ]
  },
  {
   "cell_type": "code",
   "execution_count": 10,
   "metadata": {},
   "outputs": [],
   "source": [
    "from sklearn.datasets import load_boston"
   ]
  },
  {
   "cell_type": "code",
   "execution_count": 11,
   "metadata": {},
   "outputs": [],
   "source": [
    "%matplotlib inline\n",
    "bunch = load_boston()"
   ]
  },
  {
   "cell_type": "code",
   "execution_count": 12,
   "metadata": {},
   "outputs": [
    {
     "data": {
      "image/png": "[encoded data removed]",
      "text/plain": [
       "<Figure size 432x288 with 2 Axes>"
      ]
     },
     "metadata": {
      "needs_background": "light"
     },
     "output_type": "display_data"
    }
   ],
   "source": [
    "X_train = pd.DataFrame(bunch.data[:250], columns=bunch.feature_names)\n",
    "X_test = pd.DataFrame(bunch.data[250:], columns=bunch.feature_names)\n",
    "\n",
    "# plot histograms of two numeric variables\n",
    "_ = X_train[['CRIM', 'DIS']].hist()"
   ]
  },
  {
   "cell_type": "code",
   "execution_count": 13,
   "metadata": {},
   "outputs": [],
   "source": [
    "scaler = GaussRankScaler()"
   ]
  },
  {
   "cell_type": "code",
   "execution_count": 18,
   "metadata": {},
   "outputs": [],
   "source": [
    "X_train_new = scaler.fit_transform(X_train[['CRIM', 'DIS']])"
   ]
  },
  {
   "cell_type": "code",
   "execution_count": 15,
   "metadata": {},
   "outputs": [],
   "source": []
  },
  {
   "cell_type": "code",
   "execution_count": 19,
   "metadata": {},
   "outputs": [
    {
     "data": {
      "image/png": "[encoded data removed]",
      "text/plain": [
       "<Figure size 432x288 with 2 Axes>"
      ]
     },
     "metadata": {
      "needs_background": "light"
     },
     "output_type": "display_data"
    }
   ],
   "source": [
    "_ = pd.DataFrame(X_train_new, columns=['CRIM', 'DIS']).hist()"
   ]
  },
  {
   "cell_type": "code",
   "execution_count": 20,
   "metadata": {
    "scrolled": true
   },
   "outputs": [
    {
     "data": {
      "image/png": "[encoded data removed]",
      "text/plain": [
       "<Figure size 432x288 with 2 Axes>"
      ]
     },
     "metadata": {
      "needs_background": "light"
     },
     "output_type": "display_data"
    }
   ],
   "source": [
    "X_test_new = scaler.transform(X_test[['CRIM', 'DIS']])\n",
    "_ = pd.DataFrame(X_test_new, columns=['CRIM', 'DIS']).hist()"
   ]
  },
  {
   "cell_type": "code",
   "execution_count": null,
   "metadata": {},
   "outputs": [],
   "source": []
  }
 ],
 "metadata": {
  "kernelspec": {
   "display_name": "Python [conda env:tensorflow]",
   "language": "python",
   "name": "conda-env-tensorflow-py"
  },
  "language_info": {
   "codemirror_mode": {
    "name": "ipython",
    "version": 3
   },
   "file_extension": ".py",
   "mimetype": "text/x-python",
   "name": "python",
   "nbconvert_exporter": "python",
   "pygments_lexer": "ipython3",
   "version": "3.7.8"
  }
 },
 "nbformat": 4,
 "nbformat_minor": 4
}
